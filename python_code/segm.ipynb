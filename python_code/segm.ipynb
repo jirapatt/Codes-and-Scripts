{
 "cells": [
  {
   "cell_type": "code",
   "execution_count": null,
   "metadata": {
    "jupyter": {
     "source_hidden": true
    }
   },
   "outputs": [],
   "source": [
    "%load_ext autoreload\n",
    "%autoreload 2\n",
    "%matplotlib inline\n",
    "\n",
    "import os\n",
    "import random\n",
    "import shutil\n",
    "import glob\n",
    "\n",
    "import matplotlib.pyplot as plt\n",
    "import scipy.io\n",
    "import numpy as np\n",
    "\n",
    "from tqdm import tqdm\n",
    "\n",
    "import skimage.io\n",
    "import skimage.segmentation\n",
    "import skimage.morphology\n",
    "\n",
    "import sys\n",
    "__file__ = 'segm.ipynb'\n",
    "sys.path.append(os.path.dirname(os.path.dirname(os.path.abspath(__file__))))\n",
    "\n",
    "import utils.dirtools  # utils package should has __init__.py in it\n",
    "import utils.augmentation\n",
    "import utils.model_builder\n",
    "import utils.data_provider\n",
    "import utils.metrics\n",
    "import utils.objectives\n",
    "import utils.evaluation\n",
    "\n",
    "from config import config_vars"
   ]
  },
  {
   "cell_type": "code",
   "execution_count": null,
   "metadata": {},
   "outputs": [],
   "source": [
    "# setup global variables\n",
    "\n",
    "config_vars[\"root_directory\"] = 'testExp/'\n",
    "experiment_name = 'cellSegm'\n",
    "\n",
    "config_vars = utils.dirtools.setup_working_directories(config_vars)\n",
    "config_vars = utils.dirtools.setup_experiment(config_vars, experiment_name)\n"
   ]
  },
  {
   "cell_type": "code",
   "execution_count": null,
   "metadata": {},
   "outputs": [],
   "source": [
    "def warn(*args, **kwargs):\n",
    "    pass\n",
    "import warnings\n",
    "warnings.warn = warn\n",
    "\n",
    "def empty_dir(folder):\n",
    "    print('empty directory: ', folder)\n",
    "    for the_file in os.listdir(folder):\n",
    "        file_path = os.path.join(folder, the_file)\n",
    "        try:\n",
    "            if os.path.isfile(file_path):\n",
    "                os.unlink(file_path)\n",
    "            elif os.path.isdir(file_path): shutil.rmtree(file_path)\n",
    "        except Exception as e:\n",
    "            print(e)\n",
    "            \n",
    "            \n",
    "def remove(pred_label, cb):\n",
    "    # how to use filter to constrain not removing big nucleus\n",
    "    out = pred_label.copy()\n",
    "    out_f = out.ravel()  # flatten out\n",
    "    component_sizes = np.bincount(out_f)\n",
    "    cb_ = cb\n",
    "    for i in range(out.shape[0]):\n",
    "        for j in range(out.shape[1]):\n",
    "            for c in cb_:\n",
    "                if out[i, j] == c:\n",
    "                    out[i, j] = 0\n",
    "    \n",
    "    return out\n",
    "\n",
    "def remove_border(pred_label):\n",
    "    # find the classes of the partial cells which located on the border\n",
    "    # traverse the border\n",
    "    cb = set()\n",
    "    for i in range(512):\n",
    "        if pred_label[i, 0] != 0:\n",
    "            cb.add(pred_label[i, 0])\n",
    "        if pred_label[0, i] != 0:\n",
    "            cb.add(pred_label[0, i])\n",
    "        if pred_label[i, 511] != 0:\n",
    "            cb.add(pred_label[i, 511])\n",
    "        if pred_label[511, i] != 0:\n",
    "            cb.add(pred_label[511, i])\n",
    "    \n",
    "    # change these classes to 0 as background\n",
    "    # maybe I should add a constrain about not filtering the big cell\n",
    "    return remove(pred_label, cb)\n",
    "\n",
    "img_count = 0 \n",
    "def preprocess_folder2(folder_name):\n",
    "    img_count = 0\n",
    "    \n",
    "    dest_folder = folder_name + \"/raw_images/\"\n",
    "    os.makedirs(dest_folder, exist_ok=True)\n",
    "    \n",
    "    fd_list = sorted(os.listdir(folder_name))\n",
    "    for fd in fd_list:\n",
    "        if fd != 'raw_images' and fd!= 'experiments':\n",
    "            print(fd)\n",
    "            image_list = sorted(os.listdir(folder_name + \"/\" + fd))\n",
    "\n",
    "            for img in image_list:\n",
    "                # img is simply copy to raw_images dir\n",
    "                shutil.copy2(folder_name + \"/\" + fd + \"/\" + img, dest_folder + \"{:04d}\".format(img_count) + \".tif\")\n",
    "                img_count += 1\n",
    "          \n",
    "    print(\"Total image: \", img_count)"
   ]
  },
  {
   "cell_type": "code",
   "execution_count": null,
   "metadata": {},
   "outputs": [],
   "source": [
    "preprocess_folder2(config_vars[\"root_directory\"])"
   ]
  },
  {
   "cell_type": "code",
   "execution_count": null,
   "metadata": {},
   "outputs": [],
   "source": [
    "\n",
    "config_vars[\"mat_out_dir\"] = config_vars[\"root_directory\"] + '/experiments/cellSegm/out/mat/'\n",
    "experiment_name = 'cellSegm'\n",
    "\n",
    "config_vars = utils.dirtools.setup_working_directories(config_vars)\n",
    "config_vars = utils.dirtools.setup_experiment(config_vars, experiment_name)"
   ]
  },
  {
   "cell_type": "markdown",
   "metadata": {},
   "source": [
    "### PREPROCESS"
   ]
  },
  {
   "cell_type": "code",
   "execution_count": null,
   "metadata": {},
   "outputs": [],
   "source": [
    "file_list = os.listdir(config_vars[\"raw_images_dir\"])\n",
    "img = skimage.io.imread(config_vars[\"raw_images_dir\"] + file_list[-1])\n",
    "\n",
    "figure, ax = plt.subplots(1, 2, figsize=(10, 5))\n",
    "\n",
    "ax[0].imshow(img)\n",
    "ax[1].hist(img.flatten(), bins=100)[2]"
   ]
  },
  {
   "cell_type": "code",
   "execution_count": null,
   "metadata": {},
   "outputs": [],
   "source": [
    "os.makedirs(config_vars[\"normalized_images_dir\"], exist_ok=True)\n",
    "os.makedirs(config_vars[\"mat_out_dir\"], exist_ok=True)\n",
    "#os.makedirs(config_vars[\"boundary_labels_dir\"], exist_ok=True)"
   ]
  },
  {
   "cell_type": "code",
   "execution_count": null,
   "metadata": {},
   "outputs": [],
   "source": [
    "# normalize images\n",
    "\n",
    "if config_vars[\"transform_images_to_PNG\"]:\n",
    "    filelist = sorted(os.listdir(config_vars[\"raw_images_dir\"]))\n",
    "    # run over all raw images\n",
    "    for filename in tqdm(filelist):\n",
    "        # load image and its annotation\n",
    "        orig_img = skimage.io.imread(config_vars[\"raw_images_dir\"] + filename)       \n",
    "        # normalize to [0,1]\n",
    "        percentile = 99.9\n",
    "        high = np.percentile(orig_img, percentile)  # maximum for all image\n",
    "        low = np.percentile(orig_img, 100-percentile)\n",
    "\n",
    "        img = np.minimum(high, orig_img)\n",
    "        img = np.maximum(low, img)\n",
    "\n",
    "        # gives float64, thus cast to 8 bit later\n",
    "        img = (img - low) / (high - low) \n",
    "        img = skimage.img_as_ubyte(img) \n",
    "             \n",
    "        skimage.io.imsave(config_vars[\"normalized_images_dir\"] + filename[:-3] + 'png', img)    \n",
    "else:\n",
    "    config_vars[\"normalized_images_dir\"] = config_vars[\"raw_images_dir\"]"
   ]
  },
  {
   "cell_type": "markdown",
   "metadata": {},
   "source": [
    "### PREDICT"
   ]
  },
  {
   "cell_type": "code",
   "execution_count": null,
   "metadata": {},
   "outputs": [],
   "source": [
    "file_list = os.listdir(config_vars[\"normalized_images_dir\"])\n",
    "image_list = [x for x in file_list if x.endswith(\"png\")]\n",
    "len(image_list)"
   ]
  },
  {
   "cell_type": "code",
   "execution_count": null,
   "metadata": {},
   "outputs": [],
   "source": [
    "def create_image_lists(dir_raw_images):\n",
    "    file_list = os.listdir(dir_raw_images)\n",
    "    image_list = [x for x in file_list if x.endswith(\"png\")]\n",
    "    image_list = sorted(image_list)\n",
    "\n",
    "    image_list_train_aug = []\n",
    "    image_list_test = []\n",
    "\n",
    "    image_list_train = []\n",
    "    image_list_validation = image_list\n",
    "\n",
    "    return image_list_train, image_list_test, image_list_validation, image_list_train_aug"
   ]
  },
  {
   "cell_type": "code",
   "execution_count": null,
   "metadata": {},
   "outputs": [],
   "source": [
    "[list_training, list_test, list_validation, list_training_aug] = create_image_lists(\n",
    "    config_vars[\"normalized_images_dir\"]\n",
    ")\n",
    "\n",
    "utils.dirtools.write_path_files(config_vars[\"path_files_training\"], list_training)\n",
    "utils.dirtools.write_path_files(config_vars[\"path_files_test\"], list_test)\n",
    "utils.dirtools.write_path_files(config_vars[\"path_files_validation\"], list_validation)"
   ]
  },
  {
   "cell_type": "code",
   "execution_count": null,
   "metadata": {},
   "outputs": [],
   "source": [
    "config_vars['model_file'] = 'model_PAO1.hdf5'"
   ]
  },
  {
   "cell_type": "code",
   "execution_count": null,
   "metadata": {},
   "outputs": [],
   "source": [
    "data_partitions = utils.dirtools.read_data_partitions(config_vars, load_augmented=False)"
   ]
  },
  {
   "cell_type": "code",
   "execution_count": null,
   "metadata": {},
   "outputs": [],
   "source": [
    "image_names = [os.path.join(config_vars[\"normalized_images_dir\"], f) for f in data_partitions[\"validation\"]]\n",
    "imagebuffer = skimage.io.imread_collection(image_names)\n",
    "images = imagebuffer.concatenate()\n",
    "\n",
    "dim1, dim2 = images.shape[1], images.shape[2]\n",
    "images = images.reshape((-1, dim1, dim2, 1))\n",
    "# preprocess (assuming images are encoded as 8-bits in the preprocessing step)\n",
    "images = images / 255\n",
    "\n",
    "### build model and load weights\n",
    "#model = utils.model_builder.get_model(dim1, dim2, output_channel=1, activation=\"sigmoid\")\n",
    "model = utils.model_builder.get_model(dim1, dim2, output_channel=3, activation=None)\n",
    "\n",
    "model.load_weights(config_vars[\"model_file\"])\n",
    "\n",
    "predictions = model.predict(images, batch_size=1)"
   ]
  },
  {
   "cell_type": "code",
   "execution_count": null,
   "metadata": {},
   "outputs": [],
   "source": [
    "empty_dir(config_vars[\"probmap_out_dir\"])\n",
    "empty_dir(config_vars[\"labels_out_dir\"])"
   ]
  },
  {
   "cell_type": "code",
   "execution_count": null,
   "metadata": {},
   "outputs": [],
   "source": [
    "# boundary to segmentation v-1.0\n",
    "\n",
    "for i in range(len(images)):\n",
    "    filename = imagebuffer.files[i]\n",
    "    filename = os.path.basename(filename)\n",
    "    filenamewoext = os.path.splitext(filename)[0]\n",
    "    print(filename)\n",
    "    \n",
    "    probmap = predictions[i].squeeze()\n",
    "   \n",
    "    skimage.io.imsave(config_vars[\"probmap_out_dir\"] + filename, probmap)\n",
    "    # binary mask dilation\n",
    "    config_vars[\"boundary_boost_factor\"] = 0.4\n",
    "    pred = utils.metrics.probmap_to_pred(probmap, config_vars[\"boundary_boost_factor\"])\n",
    "    label = utils.metrics.pred_to_label(pred, config_vars[\"cell_min_size\"])\n",
    "    # min threshold of cell being recognized\n",
    "    label = skimage.morphology.remove_small_objects(label, min_size=10)\n",
    "    label = remove_border(label)\n",
    "    skimage.io.imsave(config_vars[\"labels_out_dir\"] + filename, label)\n",
    "    \n",
    "    scipy.io.savemat(config_vars[\"mat_out_dir\"] + filenamewoext + '.mat', mdict={'label': label},appendmat=True)\n",
    "    \n",
    "    if (i < 10):\n",
    "        plt.imshow(probmap)\n",
    "        plt.show()\n",
    "        plt.imshow(pred)\n",
    "        plt.show()\n",
    "        plt.imshow(label)\n",
    "        plt.show() "
   ]
  },
  {
   "cell_type": "code",
   "execution_count": null,
   "metadata": {},
   "outputs": [],
   "source": [
    "# segmentation to boundary\n",
    "config_vars[\"raw_annotations_dir\"] = config_vars[\"labels_out_dir\"] \n",
    "#config_vars[\"raw_annotations_dir\"] = '0809_PAK_cellCount/1K5/experiments/cellRecog/out/segm/' \n",
    "filelist = sorted(os.listdir(config_vars[\"raw_annotations_dir\"]))\n",
    "filelist = [x for x in filelist if x.endswith('png')]\n",
    "total_objects = 0\n",
    "\n",
    "# run over all raw images\n",
    "for filename in tqdm(filelist):\n",
    "    # GET ANNOTATION\n",
    "    annot = skimage.io.imread(config_vars[\"raw_annotations_dir\"] + filename)\n",
    "    \n",
    "    # label the annotations nicely to prepare for future filtering operation\n",
    "    annot = skimage.morphology.label(annot)\n",
    "    total_objects += len(np.unique(annot)) - 1\n",
    "    each_objects = len(np.unique(annot)) - 1\n",
    "    print(\"#objects: \",each_objects)\n",
    "    \n",
    "print(\"Total objects: \",total_objects)"
   ]
  }
 ],
 "metadata": {
  "kernelspec": {
   "display_name": "Python 3",
   "language": "python",
   "name": "python3"
  },
  "language_info": {
   "codemirror_mode": {
    "name": "ipython",
    "version": 3
   },
   "file_extension": ".py",
   "mimetype": "text/x-python",
   "name": "python",
   "nbconvert_exporter": "python",
   "pygments_lexer": "ipython3",
   "version": "3.8.3"
  }
 },
 "nbformat": 4,
 "nbformat_minor": 4
}
